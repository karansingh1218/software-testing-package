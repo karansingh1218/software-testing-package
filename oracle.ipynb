{
 "cells": [
  {
   "cell_type": "code",
   "execution_count": 1,
   "metadata": {},
   "outputs": [],
   "source": [
    "from TestUseCases import testingLoginAPI\n",
    "from TestingLibrary import Login\n",
    "from Input import input as awsCognitoInfo\n",
    "\n",
    "from TestUseCases import databaseTesting\n",
    "from TestingLibrary import Database\n",
    "from Input import databaseCredentials as sqlcred\n",
    "from Input import queryData as query\n",
    "\n",
    "from TestUseCases import integrationTesting\n",
    "from Input import integrationEndpoints\n",
    "from TestingLibrary import Integration\n",
    "from Input import integrationEndpoints\n",
    "import subprocess\n",
    "import webbrowser\n",
    "import sys\n",
    "import os\n",
    "from TestUseCases import locustTest\n",
    "from Input import locustFilePaths"
   ]
  },
  {
   "cell_type": "markdown",
   "metadata": {},
   "source": [
    "# Login AWS COGNITO API Testing "
   ]
  },
  {
   "cell_type": "markdown",
   "metadata": {},
   "source": [
    "### Test Login API\n",
    "- Generate randomily generated email and send request to Amazon Web Service Cognito API\n",
    "- Function: test_sequential_user_login_test()\n",
    "     - Takes list of random emails as input and AWS Cognito credentials \n",
    "     - AWS cognito is retrieved from library"
   ]
  },
  {
   "cell_type": "code",
   "execution_count": 2,
   "metadata": {},
   "outputs": [
    {
     "name": "stdout",
     "output_type": "stream",
     "text": [
      "something\n",
      "RUNNNING\n",
      "Login account has been created\n",
      "  \n",
      "TEST HAS PASSED\n"
     ]
    }
   ],
   "source": [
    "randomEmail= Login.generate_random_emails(1, 10)\n",
    "\n",
    "TestAPI = testingLoginAPI.test_sequential_user_login_test(randomEmail,\n",
    "                                                          awsCognitoInfo.TEMPORARY_PASSWORD,\n",
    "                                                          awsCognitoInfo.USER_POOL_ID,\n",
    "                                                          awsCognitoInfo.APP_CLIENT_ID,\n",
    "                                                          awsCognitoInfo.REGION)"
   ]
  },
  {
   "cell_type": "markdown",
   "metadata": {},
   "source": [
    "### Delete Randomily Generated Emails from AWS API\n",
    "- Generate randomily generated email and send request to Amazon Web Service Cognito API\n",
    "- Function: test_sequential_random_email_deletion()\n",
    "     - Takes list of random emails as input and AWS Cognito credentials \n",
    "     - AWS cognito response is retrieved"
   ]
  },
  {
   "cell_type": "code",
   "execution_count": null,
   "metadata": {},
   "outputs": [],
   "source": [
    "RandomDeletionofAPI = testingLoginAPI.test_sequential_random_email_deletion(awsCognitoInfo.AWS_SERVICE,\n",
    "                                                                            awsCognitoInfo.REGION,\n",
    "                                                                            awsCognitoInfo.USER_POOL_ID,\n",
    "                                                                            randomEmail)"
   ]
  },
  {
   "cell_type": "markdown",
   "metadata": {},
   "source": [
    "# mySQL Database Testing "
   ]
  },
  {
   "cell_type": "markdown",
   "metadata": {},
   "source": [
    "### Fetch items from cart database hosted on the mySQL Database\n",
    "- Function: my_sql_database_item_fetch_cart_items_test()\n",
    "- Input: \n",
    "     - List of queries you want to search for\n",
    "     - credentials for the mySQL Database\n",
    "- Output:\n",
    "    - Response from the mySQL Server\n",
    "- Comment: \n",
    "    - Expected Response can be empty cart if not user has purchased items or the user has items in the cart database"
   ]
  },
  {
   "cell_type": "code",
   "execution_count": null,
   "metadata": {},
   "outputs": [],
   "source": [
    "databaseTest1 = databaseTesting.my_sql_database_item_fetch_cart_items_test(query.query_items_list,\n",
    "                                                                           sqlcred.SSH_USERNAME,\n",
    "                                                                           sqlcred.SSH_PASSWORD,\n",
    "                                                                           sqlcred.REMOTE_BIND_ADDRESS,\n",
    "                                                                           sqlcred.SQL_USER,\n",
    "                                                                           sqlcred.SQL_PASSWORD,\n",
    "                                                                           sqlcred.SQL_DATABASE,\n",
    "                                                                           sqlcred.ITEM_TABLE_NAME,\n",
    "                                                                           sqlcred.CART_TABLE_NAME,\n",
    "                                                                           sqlcred.LOCAL_HOST\n",
    "                                                                          )\n",
    "print(databaseTest1)"
   ]
  },
  {
   "cell_type": "markdown",
   "metadata": {},
   "source": [
    "### Fetch walmart scrapped items from the mySQL Database\n",
    "- Function: my_sql_database_item_multiple_Item_search_test()\n",
    "- Input: \n",
    "     - List of queries you want to search for\n",
    "     - credentials for the mySQL Database\n",
    "- Output:\n",
    "    - Response from the mySQL Server items list database\n"
   ]
  },
  {
   "cell_type": "code",
   "execution_count": null,
   "metadata": {},
   "outputs": [],
   "source": [
    "databaseTest2 = databaseTesting.my_sql_database_item_multiple_Item_search_test(query.query_items_list,\n",
    "                                                                           sqlcred.SSH_USERNAME,\n",
    "                                                                           sqlcred.SSH_PASSWORD,\n",
    "                                                                           sqlcred.REMOTE_BIND_ADDRESS,\n",
    "                                                                           sqlcred.SQL_USER,\n",
    "                                                                           sqlcred.SQL_PASSWORD,\n",
    "                                                                           sqlcred.SQL_DATABASE,\n",
    "                                                                           sqlcred.ITEM_TABLE_NAME,\n",
    "                                                                           sqlcred.CART_TABLE_NAME,\n",
    "                                                                           sqlcred.LOCAL_HOST\n",
    "                                                                          )\n",
    "print(databaseTest2)"
   ]
  },
  {
   "cell_type": "markdown",
   "metadata": {},
   "source": [
    "### Search by Title in Database\n",
    "- Function: my_sql_database_title_item_search_test()\n",
    "- Input: \n",
    "     - List of queries you want to search for\n",
    "     - credentials for the mySQL Database\n",
    "- Output:\n",
    "    - Response from the mySQL Server items list database\n",
    "\n"
   ]
  },
  {
   "cell_type": "code",
   "execution_count": null,
   "metadata": {},
   "outputs": [],
   "source": [
    "databaseTest3 = databaseTesting.my_sql_database_title_item_search_test(query.query_items_list,\n",
    "                                                                           sqlcred.SSH_USERNAME,\n",
    "                                                                           sqlcred.SSH_PASSWORD,\n",
    "                                                                           sqlcred.REMOTE_BIND_ADDRESS,\n",
    "                                                                           sqlcred.SQL_USER,\n",
    "                                                                           sqlcred.SQL_PASSWORD,\n",
    "                                                                           sqlcred.SQL_DATABASE,\n",
    "                                                                           sqlcred.ITEM_TABLE_NAME,\n",
    "                                                                           sqlcred.CART_TABLE_NAME,\n",
    "                                                                           sqlcred.LOCAL_HOST\n",
    "                                                                          )\n",
    "print(databaseTest3)"
   ]
  },
  {
   "cell_type": "markdown",
   "metadata": {},
   "source": [
    "### Search Query List and Compare Responses\n",
    "- Input: \n",
    "     - List of queries you want to search for\n",
    "     - credentials for the mySQL Database\n",
    "- Output:\n",
    "    - Compare intial query data to response from mySQL Server\n"
   ]
  },
  {
   "cell_type": "code",
   "execution_count": null,
   "metadata": {},
   "outputs": [],
   "source": [
    "databaseTest4 = databaseTesting.my_sql_expected_response_from_query_search_test(query.querySearchList,\n",
    "                                                                                query.expecteQueryResponseArray,\n",
    "                                                                           sqlcred.SSH_USERNAME,\n",
    "                                                                           sqlcred.SSH_PASSWORD,\n",
    "                                                                           sqlcred.REMOTE_BIND_ADDRESS,\n",
    "                                                                           sqlcred.SQL_USER,\n",
    "                                                                           sqlcred.SQL_PASSWORD,\n",
    "                                                                           sqlcred.SQL_DATABASE,\n",
    "                                                                           sqlcred.ITEM_TABLE_NAME,\n",
    "                                                                           sqlcred.CART_TABLE_NAME,\n",
    "                                                                           sqlcred.LOCAL_HOST\n",
    "                                                                          )\n",
    "print(databaseTest4)"
   ]
  },
  {
   "cell_type": "markdown",
   "metadata": {},
   "source": [
    "### Search Different Query Search Criteria Stress Test\n",
    "- Input: \n",
    "     - List of queries you want to search for\n",
    "     - credentials for the mySQL Database\n",
    "- Output:\n",
    "    - Response from the mySQL Server items list database with vary search criterias\n",
    "\n"
   ]
  },
  {
   "cell_type": "code",
   "execution_count": null,
   "metadata": {},
   "outputs": [],
   "source": [
    "databaseTest5 = databaseTesting.mysql_multiple_queries_search_test(query.querySearchList,\n",
    "                                                                           sqlcred.SSH_USERNAME,\n",
    "                                                                           sqlcred.SSH_PASSWORD,\n",
    "                                                                           sqlcred.REMOTE_BIND_ADDRESS,\n",
    "                                                                           sqlcred.SQL_USER,\n",
    "                                                                           sqlcred.SQL_PASSWORD,\n",
    "                                                                           sqlcred.SQL_DATABASE,\n",
    "                                                                           sqlcred.ITEM_TABLE_NAME,\n",
    "                                                                           sqlcred.CART_TABLE_NAME,\n",
    "                                                                           sqlcred.LOCAL_HOST\n",
    "                                                                          )"
   ]
  },
  {
   "cell_type": "markdown",
   "metadata": {},
   "source": [
    "# Integration Testing"
   ]
  },
  {
   "cell_type": "markdown",
   "metadata": {},
   "source": [
    "### Compare Sent Query and The Expected Response\n",
    "- Diagram:\n",
    "    - Python <---> Node Server <---> mySQL\n",
    "- Function:\n",
    "    - compare_node_server_query_response()\n",
    "- Input:\n",
    "    - list of queries\n",
    "    - expected response from quries from server\n",
    "    - Endpoint to send POST Request\n",
    "- Behavior:\n",
    "    - compares the input query and the expected response"
   ]
  },
  {
   "cell_type": "code",
   "execution_count": null,
   "metadata": {},
   "outputs": [],
   "source": [
    "integration_test1 = integrationTesting.compare_node_server_query_response(\n",
    "                                                                            query.queryArrayList, \n",
    "                                                                            query.responseQueryList, \n",
    "                                                                            integrationEndpoints.API_ENDPOINT)\n",
    "print(integration_test1)"
   ]
  },
  {
   "cell_type": "markdown",
   "metadata": {},
   "source": [
    "### Server Reponse from Node Server End Point\n",
    "- Diagram:\n",
    "    - Python <---> Node Server <---> mySQL\n",
    "- Function:\n",
    "    - server_response_test()\n",
    "- Input:\n",
    "    - Endpoint to send GET Request\n",
    "- Behavior:\n",
    "    - Expects to receive '<Response [200]>'"
   ]
  },
  {
   "cell_type": "code",
   "execution_count": null,
   "metadata": {},
   "outputs": [],
   "source": [
    "integration_test2 = integrationTesting.server_response_test(integrationEndpoints.API_ENDPOINT)\n",
    "print(integration_test2)"
   ]
  },
  {
   "cell_type": "markdown",
   "metadata": {},
   "source": [
    "### Multiple GET Request sent to API ENDPOINT Stress Test\n",
    "- Diagram:\n",
    "    - Python <---> Node Server <---> mySQL\n",
    "- Function:\n",
    "    - server_sequential_stress_response_test()\n",
    "- Input:\n",
    "    - Number of Iteration of GET requests\n",
    "    - Endpoint to send GET Request\n",
    "- Behavior:\n",
    "    - Expects to receive '<Response [200]>'"
   ]
  },
  {
   "cell_type": "code",
   "execution_count": null,
   "metadata": {},
   "outputs": [],
   "source": [
    "integration_test3 = integrationTesting.server_sequential_stress_response_test(10, integrationEndpoints.API_ENDPOINT)\n",
    "print(integration_test3)"
   ]
  },
  {
   "cell_type": "markdown",
   "metadata": {},
   "source": [
    "### Multiple GET request sent to REACT server and NODE Server Stress Test\n",
    "- Diagram:\n",
    "    - Python <---> Node Server <---> mySQL\n",
    "    - Python <---> React Server\n",
    "- Function:\n",
    "    - sequential_server_response_requests_test()\n",
    "- Input:\n",
    "    - Number of Iteration of GET requests\n",
    "    - Endpoint to send GET Request\n",
    "- Behavior:\n",
    "    - Expects to receive '<Response [200]>'"
   ]
  },
  {
   "cell_type": "code",
   "execution_count": null,
   "metadata": {},
   "outputs": [],
   "source": [
    "integration_test4 = integrationTesting.sequential_server_response_requests_test(10, \n",
    "                                                                                integrationEndpoints.reactWebpage,\n",
    "                                                                                integrationEndpoints.API_ENDPOINT)\n",
    "print(integration_test4)"
   ]
  },
  {
   "cell_type": "markdown",
   "metadata": {},
   "source": [
    "### GET Request sent to REACT server holding our website\n",
    "- Diagram:\n",
    "    - Python <---> React Server\n",
    "- Function:\n",
    "    - server_response_test()\n",
    "- Input:\n",
    "    - Endpoint to send GET Request\n",
    "- Behavior:\n",
    "    - Expects to receive '<Response [200]>'"
   ]
  },
  {
   "cell_type": "code",
   "execution_count": null,
   "metadata": {},
   "outputs": [],
   "source": [
    "integration_test5 = integrationTesting.server_response_test(integrationEndpoints.reactWebpage2)\n",
    "print(integration_test5)"
   ]
  },
  {
   "cell_type": "markdown",
   "metadata": {},
   "source": [
    "### Multiple GET Request sent to React Server Stress Test\n",
    "- Diagram:\n",
    "    - Python <---> React Server\n",
    "- Function:\n",
    "    - server_sequential_stress_response_test()\n",
    "- Input:\n",
    "    - Number of Iteration of GET requests\n",
    "    - Endpoint to send GET Request\n",
    "- Behavior:\n",
    "    - Expects to receive '<Response [200]>'"
   ]
  },
  {
   "cell_type": "code",
   "execution_count": null,
   "metadata": {},
   "outputs": [],
   "source": [
    "integration_test6 = integrationTesting.server_sequential_stress_response_test(10, integrationEndpoints.reactWebpage2)\n",
    "print(integration_test6)"
   ]
  },
  {
   "cell_type": "markdown",
   "metadata": {},
   "source": [
    "### Send Query and Compare The Responses with Live Results \n",
    "- Diagram:\n",
    "    - Python <---> Node Server <---> mySQL\n",
    "- Function:\n",
    "    - node_server_query_response_live()\n",
    "- Input:\n",
    "    - Number of Iteration of GET requests\n",
    "    - Endpoint to send GET Request\n",
    "- Behavior:\n",
    "    - "
   ]
  },
  {
   "cell_type": "code",
   "execution_count": null,
   "metadata": {},
   "outputs": [],
   "source": [
    "integration_test7 = integrationTesting.node_server_query_response_live(query.queryArrayList,\n",
    "                                                                          integrationEndpoints.API_ENDPOINT)\n",
    "print(integration_test7)"
   ]
  },
  {
   "cell_type": "markdown",
   "metadata": {},
   "source": [
    "### Send Random Strings Queries to Node Server\n",
    "- Diagram:\n",
    "    - Python <---> Node Server <---> mySQL\n",
    "- Function:\n",
    "    - random_english_words_server_query_response()\n",
    "- Input:\n",
    "    - Number of Iterations\n",
    "    - API Endpoint for POST Requests\n",
    "    - Number of characters for randomily generated string\n",
    "- Behavior:\n",
    "    - Number of Passed Tests\n",
    "    - Number of Failed Tests\n",
    "    - Passed Queries\n",
    "    - Empty Queries"
   ]
  },
  {
   "cell_type": "code",
   "execution_count": null,
   "metadata": {},
   "outputs": [],
   "source": [
    "integration_test8 = integrationTesting.random_english_words_server_query_response(10, \n",
    "                                                                                  integrationEndpoints.API_ENDPOINT,\n",
    "                                                                                   3)\n",
    "print(integration_test8)"
   ]
  },
  {
   "cell_type": "markdown",
   "metadata": {},
   "source": [
    "###  Send Naughty Strings to Node Server\n",
    "#### evolving list of strings which have a high probability of causing issues when used as user-input data.\n",
    "#### Some of the Naughty Strings can indicate security vulnerabilities\n",
    "- Diagram:\n",
    "    - Python <---> Node Server <---> mySQL\n",
    "- Function:\n",
    "    - naughty_string_server_test()\n",
    "- Input:\n",
    "    - Number of Iterations\n",
    "    - API Endpoint for POST Requests\n",
    "- Behavior:\n",
    "    - Naughty Query List\n",
    "    - Server Response List\n"
   ]
  },
  {
   "cell_type": "code",
   "execution_count": null,
   "metadata": {},
   "outputs": [],
   "source": [
    "integration_test9 = integrationTesting.naughty_string_server_test(6,integrationEndpoints.API_ENDPOINT)\n",
    "print(integration_test9)"
   ]
  },
  {
   "cell_type": "markdown",
   "metadata": {},
   "source": [
    "# Load System Testing using LOCUST FRAMEWORK"
   ]
  },
  {
   "cell_type": "markdown",
   "metadata": {},
   "source": [
    "### System Test Under Load 1:\n",
    "- Perform get request to react server, node server.\n",
    "- Perform post request to node server\n",
    "- All under user load\n",
    "- Simulating Traffic on Web Store"
   ]
  },
  {
   "cell_type": "code",
   "execution_count": null,
   "metadata": {},
   "outputs": [],
   "source": [
    "locustfile_py = locustTest.locust_command_line_run_creator(locustFilePaths.locustFilePath1,\n",
    "                                               integrationEndpoints.API_ENDPOINT )\n",
    "\n",
    "locustTest1 = locustTest.run_locust_command(locustfile_py)"
   ]
  },
  {
   "cell_type": "markdown",
   "metadata": {},
   "source": [
    "### System Test Under Load 2:\n",
    "- Perform Load Test by submitting GET Request to node Server"
   ]
  },
  {
   "cell_type": "code",
   "execution_count": null,
   "metadata": {},
   "outputs": [],
   "source": [
    "nodeServerLocustGET_py = locustTest.locust_command_line_run_creator(locustFilePaths.locustFilePath2,\n",
    "                                               integrationEndpoints.API_ENDPOINT )\n",
    "\n",
    "locustTest2 = locustTest.run_locust_command(nodeServerLocustGET_py)"
   ]
  },
  {
   "cell_type": "markdown",
   "metadata": {},
   "source": [
    "### System Test Under Load 3:\n",
    "- Perform Load Test by submitting POST Request to node Server"
   ]
  },
  {
   "cell_type": "code",
   "execution_count": null,
   "metadata": {},
   "outputs": [],
   "source": [
    "nodeServerLocustPOST_py = locustTest.locust_command_line_run_creator(locustFilePaths.locustFilePath3,\n",
    "                                               integrationEndpoints.API_ENDPOINT )\n",
    "\n",
    "locustTest3 = locustTest.run_locust_command(nodeServerLocustPOST_py)"
   ]
  },
  {
   "cell_type": "markdown",
   "metadata": {},
   "source": [
    "### System Test Under Load 4:\n",
    "- Perform Load Test by submiting simulataneous random quries to node Server"
   ]
  },
  {
   "cell_type": "code",
   "execution_count": null,
   "metadata": {},
   "outputs": [],
   "source": [
    "randomQueryLocust_py = locustTest.locust_command_line_run_creator(locustFilePaths.locustFilePath4,\n",
    "                                               integrationEndpoints.API_ENDPOINT )\n",
    "\n",
    "locustTest4 = locustTest.run_locust_command(randomQueryLocust_py)"
   ]
  },
  {
   "cell_type": "markdown",
   "metadata": {},
   "source": [
    "### System Test Under Load 5:\n",
    "- evolving list of strings which have a high probability of causing issues when used as user-input data.\n",
    "- under simulatnous user load on server\n",
    "- Some of the Naughty Strings can indicate security vulnerabilities\n",
    "- attempting to destroy the server...."
   ]
  },
  {
   "cell_type": "code",
   "execution_count": null,
   "metadata": {},
   "outputs": [],
   "source": [
    "naughtyLocust_py = locustTest.locust_command_line_run_creator(locustFilePaths.locustFilePath5,\n",
    "                                               integrationEndpoints.API_ENDPOINT )\n",
    "\n",
    "locustTest5 = locustTest.run_locust_command(naughtyLocust_py)"
   ]
  },
  {
   "cell_type": "code",
   "execution_count": null,
   "metadata": {},
   "outputs": [],
   "source": []
  }
 ],
 "metadata": {
  "kernelspec": {
   "display_name": "Python 3",
   "language": "python",
   "name": "python3"
  },
  "language_info": {
   "codemirror_mode": {
    "name": "ipython",
    "version": 3
   },
   "file_extension": ".py",
   "mimetype": "text/x-python",
   "name": "python",
   "nbconvert_exporter": "python",
   "pygments_lexer": "ipython3",
   "version": "3.7.3"
  }
 },
 "nbformat": 4,
 "nbformat_minor": 2
}
