{
 "cells": [
  {
   "cell_type": "code",
   "execution_count": 1,
   "metadata": {},
   "outputs": [],
   "source": [
    "# Server.py\n",
    "# Author: Karan Singh"
   ]
  },
  {
   "cell_type": "code",
   "execution_count": 2,
   "metadata": {},
   "outputs": [],
   "source": [
    "# first of all import the socket library \n",
    "import socket"
   ]
  },
  {
   "cell_type": "code",
   "execution_count": 3,
   "metadata": {},
   "outputs": [
    {
     "name": "stdout",
     "output_type": "stream",
     "text": [
      "Socket successfully created\n"
     ]
    }
   ],
   "source": [
    "# next create a socket object \n",
    "s = socket.socket()          \n",
    "print (\"Socket successfully created\")"
   ]
  },
  {
   "cell_type": "code",
   "execution_count": 4,
   "metadata": {},
   "outputs": [],
   "source": [
    "# reserve a port on your computer in our \n",
    "# case it is 12345 but it can be anything \n",
    "port = 12345           "
   ]
  },
  {
   "cell_type": "code",
   "execution_count": 5,
   "metadata": {},
   "outputs": [
    {
     "name": "stdout",
     "output_type": "stream",
     "text": [
      "Socket binded to 12345 port\n"
     ]
    }
   ],
   "source": [
    "# Next bind to the port \n",
    "# we have not typed any ip in the ip field \n",
    "# instead we have inputted an empty string \n",
    "# this makes the server listen to requests  \n",
    "# coming from other computers on the network \n",
    "s.bind(('', port))         \n",
    "print(\"Socket binded to {} port\".format(port))"
   ]
  },
  {
   "cell_type": "code",
   "execution_count": 6,
   "metadata": {},
   "outputs": [
    {
     "name": "stdout",
     "output_type": "stream",
     "text": [
      "socket is listening\n"
     ]
    }
   ],
   "source": [
    "# put the socket into listening mode \n",
    "s.listen(5)      \n",
    "print (\"socket is listening\")"
   ]
  },
  {
   "cell_type": "code",
   "execution_count": null,
   "metadata": {},
   "outputs": [
    {
     "name": "stdout",
     "output_type": "stream",
     "text": [
      "Got connection from ('127.0.0.1', 55768)\n",
      "Got connection from ('127.0.0.1', 55770)\n",
      "Got connection from ('127.0.0.1', 55772)\n",
      "Got connection from ('127.0.0.1', 55775)\n",
      "Got connection from ('127.0.0.1', 55777)\n",
      "Got connection from ('127.0.0.1', 55779)\n",
      "Got connection from ('127.0.0.1', 55792)\n",
      "Got connection from ('127.0.0.1', 55794)\n",
      "Got connection from ('127.0.0.1', 55796)\n",
      "Got connection from ('127.0.0.1', 55798)\n",
      "Got connection from ('127.0.0.1', 55800)\n",
      "Got connection from ('127.0.0.1', 55802)\n"
     ]
    }
   ],
   "source": [
    "# a forever loop until we interrupt it or  \n",
    "# an error occurs \n",
    "while True: \n",
    "    c, addr = s.accept()\n",
    "    print('Got connection from {}'.format(addr))\n",
    "    \n",
    "    c.send('Thank you for connecting'.encode(\"utf-8\")) \n",
    "    \n",
    "    c.close() "
   ]
  },
  {
   "cell_type": "code",
   "execution_count": null,
   "metadata": {},
   "outputs": [],
   "source": []
  }
 ],
 "metadata": {
  "kernelspec": {
   "display_name": "Python 3",
   "language": "python",
   "name": "python3"
  },
  "language_info": {
   "codemirror_mode": {
    "name": "ipython",
    "version": 3
   },
   "file_extension": ".py",
   "mimetype": "text/x-python",
   "name": "python",
   "nbconvert_exporter": "python",
   "pygments_lexer": "ipython3",
   "version": "3.6.5"
  }
 },
 "nbformat": 4,
 "nbformat_minor": 2
}
