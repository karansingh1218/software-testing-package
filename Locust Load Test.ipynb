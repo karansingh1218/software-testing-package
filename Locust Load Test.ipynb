{
 "cells": [
  {
   "cell_type": "code",
   "execution_count": null,
   "metadata": {},
   "outputs": [],
   "source": [
    "from locust import HttpLocust, TaskSet, task\n",
    "import json\n",
    "\n",
    "import requests\n",
    " \n",
    "class UserBehavior(TaskSet):\n",
    "    \n",
    " \n",
    "    @task(1)    \n",
    "    def create_post(self):\n",
    "        headers = headers={'Accept' : 'application/json','Content-Type': 'application/json'}\n",
    "        aString = json.dumps({'query': query ,'searchType':'multipleItemSearch'} )\n",
    "        self.client.post( url = API_ENDPOINT, \n",
    "                         data = a_string, \n",
    "                         headers={'Accept' : 'application/json','Content-Type': 'application/json'} )\n",
    "        \n",
    " \n",
    " \n",
    "class WebsiteUser(HttpLocust):\n",
    "    task_set = UserBehavior"
   ]
  },
  {
   "cell_type": "code",
   "execution_count": null,
   "metadata": {},
   "outputs": [],
   "source": [
    "def node_server_expect_response_from_search_bar(query, API_ENDPOINT):\n",
    "    query = query \n",
    "    API_ENDPOINT = API_ENDPOINT   # the endpoint\n",
    "    \n",
    "    aString = json.dumps({'query': query ,'searchType':'multipleItemSearch'} )\n",
    "    dataDump = r.text\n",
    "    \n",
    "    return dataDump\n",
    "\n",
    "\n",
    "query = query \n",
    "    API_ENDPOINT = API_ENDPOINT   # the endpoint\n",
    "    \n",
    "    aString = json.dumps({'query': query ,'searchType':'multipleItemSearch'} )\n",
    "    r = requests.post( url = API_ENDPOINT, data = a_string, headers={'Accept' : 'application/json','Content-Type': 'application/json'} )\n",
    "    dataDump = r.text\n",
    "    "
   ]
  }
 ],
 "metadata": {
  "kernelspec": {
   "display_name": "Python 3",
   "language": "python",
   "name": "python3"
  },
  "language_info": {
   "codemirror_mode": {
    "name": "ipython",
    "version": 3
   },
   "file_extension": ".py",
   "mimetype": "text/x-python",
   "name": "python",
   "nbconvert_exporter": "python",
   "pygments_lexer": "ipython3",
   "version": "3.7.3"
  }
 },
 "nbformat": 4,
 "nbformat_minor": 2
}
