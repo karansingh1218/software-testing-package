{
 "cells": [
  {
   "cell_type": "code",
   "execution_count": null,
   "metadata": {},
   "outputs": [],
   "source": [
    "from sshtunnel import SSHTunnelForwarder\n",
    "import MySQLdb as db\n",
    "import pandas as pd"
   ]
  },
  {
   "cell_type": "code",
   "execution_count": null,
   "metadata": {},
   "outputs": [],
   "source": [
    "def query(q):\n",
    "    tunnel = SSHTunnelForwarder(\n",
    "    ('afsconnect1.njit.edu'),   # your ssh address needs to be a tuple \n",
    "        ssh_username='ks572',   \n",
    "        ssh_password='Cell10121314',\n",
    "        remote_bind_address=('sql.njit.edu',3306) # address you want to connect to\n",
    "    )\n",
    "    \n",
    "    tunnel.start()\n",
    "            \n",
    "    conn = db.connect(host='127.0.0.1',  # your machines address \n",
    "          port=tunnel.local_bind_port,   # this figures out that port 22 goes to your port \n",
    "          user='ma995',                 # sql's username\n",
    "          passwd='pickup82',            # sql's password\n",
    "          db='ma995')                   # sql's database \n",
    "    \n",
    "    return pd.read_sql_query(q, conn)\n",
    "        \n",
    "print( query(\"select * from 684Items where title like '%batman%';\") );"
   ]
  },
  {
   "cell_type": "code",
   "execution_count": null,
   "metadata": {},
   "outputs": [],
   "source": [
    "help(db)"
   ]
  },
  {
   "cell_type": "code",
   "execution_count": null,
   "metadata": {},
   "outputs": [],
   "source": []
  }
 ],
 "metadata": {
  "kernelspec": {
   "display_name": "Python 3",
   "language": "python",
   "name": "python3"
  },
  "language_info": {
   "codemirror_mode": {
    "name": "ipython",
    "version": 3
   },
   "file_extension": ".py",
   "mimetype": "text/x-python",
   "name": "python",
   "nbconvert_exporter": "python",
   "pygments_lexer": "ipython3",
   "version": "3.7.3"
  }
 },
 "nbformat": 4,
 "nbformat_minor": 2
}
